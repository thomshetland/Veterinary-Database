{
 "cells": [
  {
   "cell_type": "markdown",
   "metadata": {
    "pycharm": {
     "name": "#%% md\n"
    }
   },
   "source": [
    "##### INSTALL MYSQL CONNECTOR IF YOU DONT HAVE IT"
   ]
  },
  {
   "cell_type": "code",
   "execution_count": 1,
   "metadata": {
    "pycharm": {
     "name": "#%%\n"
    }
   },
   "outputs": [
    {
     "name": "stdout",
     "output_type": "stream",
     "text": [
      "Requirement already satisfied: mysql-connector-python in c:\\users\\thoma\\anaconda3\\lib\\site-packages (8.0.33)\n",
      "Requirement already satisfied: protobuf<=3.20.3,>=3.11.0 in c:\\users\\thoma\\anaconda3\\lib\\site-packages (from mysql-connector-python) (3.20.3)\n"
     ]
    }
   ],
   "source": [
    "!pip install mysql-connector-python"
   ]
  },
  {
   "cell_type": "code",
   "execution_count": 2,
   "metadata": {
    "pycharm": {
     "name": "#%%\n"
    }
   },
   "outputs": [],
   "source": [
    "import mysql.connector as mysql\n",
    "import json"
   ]
  },
  {
   "cell_type": "code",
   "execution_count": 3,
   "metadata": {
    "pycharm": {
     "name": "#%%\n"
    }
   },
   "outputs": [],
   "source": [
    "with open(\"AUTO_FILL_DATA.json\") as file:\n",
    "    data = json.load(file)\n",
    "file.close()"
   ]
  },
  {
   "cell_type": "code",
   "execution_count": 4,
   "metadata": {
    "pycharm": {
     "name": "#%%\n"
    }
   },
   "outputs": [],
   "source": [
    "location = data['location']\n",
    "clinics = data['clinics']\n",
    "staff = data['staff']\n",
    "invoices_paid = data['invoices_paid']\n",
    "invoices = data['invoices']\n",
    "pens = data['pens']\n",
    "tr_requirements = data['tr_requirements']\n",
    "appointments = data['appointments']\n",
    "pets = data['pets']\n",
    "supplies = data['supplies']\n",
    "pet_treatments = data['pet_treatments']\n",
    "dosage_admin = data['dosage_admin']\n",
    "pet_stay = data['pet_stay']\n",
    "treatments = data['treatments']\n",
    "pet_owners = data['pet_owners']\n",
    "examinations = data['examinations']\n",
    "pen_treatments = data['pen_treatments']"
   ]
  },
  {
   "cell_type": "code",
   "execution_count": 5,
   "metadata": {
    "pycharm": {
     "name": "#%%\n"
    }
   },
   "outputs": [],
   "source": [
    "locationColumns = location[0]\n",
    "clinicColumns = clinics[0]\n",
    "staffColumns = staff[0]\n",
    "invoices_paidColumns = invoices_paid[0]\n",
    "invoicesColumns = invoices[0]\n",
    "pensColumns = pens[0]\n",
    "tr_requirementsColumns = tr_requirements[0]\n",
    "appointmentsColumns = appointments[0]\n",
    "petsColumns = pets[0]\n",
    "suppliesColumns = supplies[0]\n",
    "pet_treatmentsColumns = pet_treatments[0]\n",
    "dosage_adminColumns = dosage_admin[0]\n",
    "pet_stayColumns = pet_stay[0]\n",
    "treatmentsColumns = treatments[0]\n",
    "pet_ownersColumns = pet_owners[0]\n",
    "examinationsColumns = examinations[0]\n",
    "pen_treatmentsColumns = pen_treatments[0]"
   ]
  },
  {
   "cell_type": "code",
   "execution_count": 6,
   "metadata": {
    "pycharm": {
     "name": "#%%\n"
    }
   },
   "outputs": [],
   "source": [
    "location = [tuple(_) for _ in location[1:]]\n",
    "clinics = [tuple(_) for _ in clinics[1:]]\n",
    "staff = [tuple(_) for _ in staff[1:]]\n",
    "invoices_paid = [tuple(_) for _ in invoices_paid[1:]]\n",
    "invoices = [tuple(_) for _ in invoices[1:]]\n",
    "pens = [tuple(_) for _ in pens[1:]]\n",
    "tr_requirements = [tuple(_) for _ in tr_requirements[1:]]\n",
    "appointments = [tuple(_) for _ in appointments[1:]]\n",
    "pets = [tuple(_) for _ in pets[1:]]\n",
    "supplies = [tuple(_) for _ in supplies[1:]]\n",
    "pet_treatments = [tuple(_) for _ in pet_treatments[1:]]\n",
    "dosage_admin = [tuple(_) for _ in dosage_admin[1:]]\n",
    "pet_stay = [tuple(_) for _ in pet_stay[1:]]\n",
    "treatments = [tuple(_) for _ in treatments[1:]]\n",
    "pet_owners = [tuple(_) for _ in pet_owners[1:]]\n",
    "examinations = [tuple(_) for _ in examinations[1:]]\n",
    "pen_treatments = [tuple(_) for _ in pen_treatments[1:]]"
   ]
  },
  {
   "cell_type": "code",
   "execution_count": 7,
   "metadata": {
    "pycharm": {
     "name": "#%%\n"
    }
   },
   "outputs": [
    {
     "data": {
      "text/plain": [
       "(4, 1, 3, 'Snake', '1999-12-31', 'Pet Snake', '2001-02-18', 'alive')"
      ]
     },
     "execution_count": 7,
     "metadata": {},
     "output_type": "execute_result"
    }
   ],
   "source": [
    "pets[3]"
   ]
  },
  {
   "cell_type": "code",
   "execution_count": 8,
   "metadata": {
    "pycharm": {
     "name": "#%%\n"
    }
   },
   "outputs": [],
   "source": [
    "def exceptionHandler(func):\n",
    "    # noinspection PyBroadException\n",
    "    def handler(**args):\n",
    "        try:\n",
    "            return func(**args)\n",
    "\n",
    "        except Exception as error:\n",
    "            print(f\"Error description:\\n{error}\")\n",
    "            pass\n",
    "\n",
    "            return False\n",
    "\n",
    "    return handler"
   ]
  },
  {
   "cell_type": "markdown",
   "metadata": {
    "pycharm": {
     "name": "#%% md\n"
    }
   },
   "source": [
    "##### SETUP UP CONNECTION\n",
    "\n",
    "Fill in the host, port, user and password information"
   ]
  },
  {
   "cell_type": "code",
   "execution_count": 9,
   "metadata": {
    "pycharm": {
     "name": "#%%\n"
    }
   },
   "outputs": [],
   "source": [
    "host = 'localhost'\n",
    "user = 'root'\n",
    "password = 'Viking2002:'\n",
    "databaseName = 'empet_database'"
   ]
  },
  {
   "cell_type": "code",
   "execution_count": 10,
   "metadata": {
    "pycharm": {
     "name": "#%%\n"
    }
   },
   "outputs": [],
   "source": [
    "db = mysql.connect(\n",
    "    host=host,\n",
    "    user=user,\n",
    "    password=password\n",
    ")"
   ]
  },
  {
   "cell_type": "code",
   "execution_count": 11,
   "metadata": {
    "pycharm": {
     "name": "#%%\n"
    }
   },
   "outputs": [],
   "source": [
    "cursor = db.cursor()"
   ]
  },
  {
   "cell_type": "markdown",
   "metadata": {
    "pycharm": {
     "name": "#%% md\n"
    }
   },
   "source": [
    "##### CREATE THE DATABASE"
   ]
  },
  {
   "cell_type": "code",
   "execution_count": 12,
   "metadata": {
    "pycharm": {
     "name": "#%%\n"
    }
   },
   "outputs": [],
   "source": [
    "cursor.execute(f\"DROP DATABASE IF EXISTS {databaseName}\")\n",
    "cursor.execute(f\"CREATE DATABASE {databaseName}\")"
   ]
  },
  {
   "cell_type": "code",
   "execution_count": 13,
   "metadata": {
    "pycharm": {
     "name": "#%%\n"
    }
   },
   "outputs": [],
   "source": [
    "db = mysql.connect(\n",
    "    host=host,\n",
    "    user=user,\n",
    "    password=password,\n",
    "    database=databaseName\n",
    ")"
   ]
  },
  {
   "cell_type": "code",
   "execution_count": 14,
   "metadata": {
    "pycharm": {
     "name": "#%%\n"
    }
   },
   "outputs": [],
   "source": [
    "cursor = db.cursor()"
   ]
  },
  {
   "cell_type": "markdown",
   "metadata": {
    "pycharm": {
     "name": "#%% md\n"
    }
   },
   "source": [
    "##### CREATE TABLES"
   ]
  },
  {
   "cell_type": "code",
   "execution_count": 15,
   "metadata": {
    "pycharm": {
     "name": "#%%\n"
    }
   },
   "outputs": [
    {
     "name": "stdout",
     "output_type": "stream",
     "text": [
      "88 out of 88\r"
     ]
    }
   ],
   "source": [
    "with open(\"SQL/SETUP_3.sql\", 'r') as sql_file:\n",
    "    queries = sql_file.read().split(\";\")\n",
    "    queries = [_ for _ in queries if _.strip() and \"/*\" not in _]\n",
    "    for _, query in enumerate(queries):\n",
    "        if query.strip():\n",
    "            cursor.execute(query)\n",
    "\n",
    "        print(f\"{_ + 1} out of {len(queries)}\", end='\\r')\n",
    "\n",
    "sql_file.close()\n",
    "db.commit()"
   ]
  },
  {
   "cell_type": "markdown",
   "metadata": {
    "pycharm": {
     "name": "#%% md\n"
    }
   },
   "source": [
    "##### CREATE TRIGGERS"
   ]
  },
  {
   "cell_type": "code",
   "execution_count": 16,
   "metadata": {
    "pycharm": {
     "name": "#%%\n"
    }
   },
   "outputs": [],
   "source": [
    "with open(\"SQL/TRIGGERS.sql\", 'r') as sql_file:\n",
    "    queries = sql_file.read().split(\"#\")\n",
    "    queries = [_ for _ in queries if _.strip() and \"/*\" not in _]\n",
    "\n",
    "    for _, query in enumerate(queries):\n",
    "        if query.strip():\n",
    "            cursor.execute(query)\n",
    "\n",
    "sql_file.close()\n",
    "db.commit()"
   ]
  },
  {
   "cell_type": "markdown",
   "metadata": {
    "pycharm": {
     "name": "#%% md\n"
    }
   },
   "source": [
    "##### DUMP SOME DATA"
   ]
  },
  {
   "cell_type": "code",
   "execution_count": 17,
   "metadata": {
    "pycharm": {
     "name": "#%%\n"
    }
   },
   "outputs": [],
   "source": [
    "@exceptionHandler\n",
    "def insert(table, columns, data_):\n",
    "    query_ = f\"INSERT INTO {table} ({', '.join(columns)}) VALUES ({', '.join(['%s']*len(columns))})\"\n",
    "    for _ in data_:\n",
    "        cursor.execute(query_, _)\n",
    "\n",
    "    db.commit()\n",
    "    print(f\"Success: {table.upper()}\")"
   ]
  },
  {
   "cell_type": "code",
   "execution_count": null,
   "metadata": {
    "pycharm": {
     "name": "#%%\n"
    }
   },
   "outputs": [
    {
     "name": "stdout",
     "output_type": "stream",
     "text": [
      "Success: LOCATION\n",
      "Success: TREATMENTS\n",
      "Success: CLINICS\n",
      "Success: PENS\n",
      "Success: STAFF\n",
      "Success: SUPPLIES\n",
      "Success: DOSAGE_ADMIN\n",
      "Success: TR_REQUIREMENTS\n",
      "Success: PET_OWNERS\n",
      "Success: PETS\n",
      "Success: EXAMINATIONS\n",
      "Success: PET_STAY\n",
      "Success: APPOINTMENTS\n",
      "Success: PET_TREATMENTS\n"
     ]
    }
   ],
   "source": [
    "insert(table='location', columns=locationColumns, data_=location)\n",
    "insert(table='treatments', columns=treatmentsColumns, data_=treatments)\n",
    "insert(table='clinics', columns=clinicColumns, data_=clinics)\n",
    "insert(table='pens', columns=pensColumns, data_=pens)\n",
    "insert(table='staff', columns=staffColumns, data_=staff)\n",
    "insert(table='supplies', columns=suppliesColumns, data_=supplies)\n",
    "insert(table='dosage_admin', columns=dosage_adminColumns, data_=dosage_admin)\n",
    "insert(table='tr_requirements', columns=tr_requirementsColumns, data_=tr_requirements)\n",
    "insert(table='pet_owners', columns=pet_ownersColumns, data_=pet_owners)\n",
    "insert(table='pets', columns=petsColumns, data_=pets)\n",
    "insert(table='examinations', columns=examinationsColumns, data_=examinations)\n",
    "insert(table='pet_stay', columns=pet_stayColumns, data_=pet_stay)\n",
    "insert(table='appointments', columns=appointmentsColumns, data_=appointments)\n",
    "insert(table='pet_treatments', columns=pet_treatmentsColumns, data_=pet_treatments)\n",
    "insert(table='invoices', columns=invoicesColumns, data_=invoices)\n",
    "insert(table='invoices_paid', columns=invoices_paidColumns, data_=invoices_paid)"
   ]
  },
  {
   "cell_type": "code",
   "execution_count": null,
   "metadata": {
    "pycharm": {
     "name": "#%%\n"
    }
   },
   "outputs": [],
   "source": [
    "#insert(table='pen_treatments', columns=pen_treatmentsColumns, data_=pen_treatments)"
   ]
  },
  {
   "cell_type": "code",
   "execution_count": null,
   "metadata": {
    "pycharm": {
     "name": "#%%\n"
    }
   },
   "outputs": [],
   "source": [
    "#db.commit()"
   ]
  },
  {
   "cell_type": "code",
   "execution_count": null,
   "metadata": {
    "pycharm": {
     "name": "#%%\n"
    }
   },
   "outputs": [],
   "source": [
    "print(db.is_connected())"
   ]
  }
 ],
 "metadata": {
  "kernelspec": {
   "display_name": "Python 3 (ipykernel)",
   "language": "python",
   "name": "python3"
  },
  "language_info": {
   "codemirror_mode": {
    "name": "ipython",
    "version": 3
   },
   "file_extension": ".py",
   "mimetype": "text/x-python",
   "name": "python",
   "nbconvert_exporter": "python",
   "pygments_lexer": "ipython3",
   "version": "3.10.9"
  }
 },
 "nbformat": 4,
 "nbformat_minor": 1
}
